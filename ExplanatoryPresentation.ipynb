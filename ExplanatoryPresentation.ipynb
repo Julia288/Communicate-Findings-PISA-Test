{
 "cells": [
  {
   "cell_type": "markdown",
   "metadata": {
    "slideshow": {
     "slide_type": "slide"
    }
   },
   "source": [
    "# Explanatory Analysis on Pisa Data\n",
    "## by Julia Kling "
   ]
  },
  {
   "cell_type": "markdown",
   "metadata": {
    "slideshow": {
     "slide_type": "slide"
    }
   },
   "source": [
    "## Research Questions\n",
    "\n",
    "Does performane in Math, Reading and Science literacy depend on gender or location?\n",
    "\n",
    "Does multicultural background influence student performance?\n",
    "\n",
    "## Investigation Overview\n",
    "\n",
    "I used Python visualization libraries to explore the selected dataset, starting from plots of single variables and building up to plots of multiple variables. In this short presentation I am illustrating interesting properties, trends, and relationships that I discovered while researching on the questions above.\n",
    "\n",
    "- Data Set Overview\n",
    "- Influence of Location on student performance in Math, Reading and Science literacy\n",
    "- Influence of Gender on student performance in Math, Reading and Science literacy\n",
    "- Influence of family background on student performance\n",
    "- Conclusion\n",
    "\n",
    "\n",
    "## Dataset Overview\n",
    "\n",
    "PISA is a survey of students' skills and knowledge as they approach the end of compulsory education. It is not a conventional school test. Rather than examining how well students have learned the school curriculum, it looks at how well prepared they are for life beyond school.\n",
    "Around 510,000 students in 65 economies took part in the PISA 2012 assessment of reading, mathematics and science representing about 28 million 15-year-olds globally. Of those economies, 44 took part in an assessment of creative problem solving and 18 in an assessment of financial literacy."
   ]
  },
  {
   "cell_type": "code",
   "execution_count": 1,
   "metadata": {
    "slideshow": {
     "slide_type": "skip"
    }
   },
   "outputs": [],
   "source": [
    "# import all packages and set plots to be embedded inline\n",
    "import numpy as np\n",
    "import pandas as pd\n",
    "import matplotlib.pyplot as plt\n",
    "import seaborn as sb\n",
    "\n",
    "%matplotlib inline\n",
    "\n",
    "# suppress warnings from final output\n",
    "import warnings\n",
    "warnings.simplefilter(\"ignore\")"
   ]
  },
  {
   "cell_type": "code",
   "execution_count": 2,
   "metadata": {
    "slideshow": {
     "slide_type": "skip"
    }
   },
   "outputs": [
    {
     "name": "stderr",
     "output_type": "stream",
     "text": [
      "b'Skipping line 215: expected 636 fields, saw 727\\nSkipping line 389: expected 636 fields, saw 859\\nSkipping line 564: expected 636 fields, saw 924\\n'\n",
      "b'Skipping line 1162: expected 636 fields, saw 810\\nSkipping line 1337: expected 636 fields, saw 840\\nSkipping line 1541: expected 636 fields, saw 696\\n'\n",
      "b'Skipping line 2540: expected 636 fields, saw 830\\nSkipping line 2714: expected 636 fields, saw 902\\n'\n",
      "b'Skipping line 3089: expected 636 fields, saw 780\\nSkipping line 3481: expected 636 fields, saw 728\\nSkipping line 3859: expected 636 fields, saw 949\\n'\n",
      "b'Skipping line 4258: expected 636 fields, saw 992\\nSkipping line 4642: expected 636 fields, saw 663\\n'\n",
      "b'Skipping line 5831: expected 636 fields, saw 871\\nSkipping line 6006: expected 636 fields, saw 659\\n'\n",
      "b'Skipping line 6211: expected 636 fields, saw 783\\nSkipping line 6610: expected 636 fields, saw 780\\nSkipping line 6786: expected 636 fields, saw 846\\nSkipping line 6993: expected 636 fields, saw 719\\n'\n",
      "b'Skipping line 7390: expected 636 fields, saw 754\\nSkipping line 7566: expected 636 fields, saw 875\\nSkipping line 7774: expected 636 fields, saw 1108\\n'\n",
      "b'Skipping line 8774: expected 636 fields, saw 662\\nSkipping line 8951: expected 636 fields, saw 893\\n'\n",
      "b'Skipping line 9728: expected 636 fields, saw 741\\n'\n",
      "b'Skipping line 10700: expected 636 fields, saw 772\\nSkipping line 10909: expected 636 fields, saw 1057\\nSkipping line 11131: expected 636 fields, saw 942\\n'\n",
      "b'Skipping line 11485: expected 636 fields, saw 726\\nSkipping line 12266: expected 636 fields, saw 683\\n'\n",
      "b'Skipping line 12471: expected 636 fields, saw 852\\nSkipping line 12870: expected 636 fields, saw 676\\nSkipping line 13255: expected 636 fields, saw 850\\n'\n",
      "b'Skipping line 13653: expected 636 fields, saw 719\\nSkipping line 14035: expected 636 fields, saw 1098\\nSkipping line 14247: expected 636 fields, saw 757\\n'\n",
      "b'Skipping line 15027: expected 636 fields, saw 654\\nSkipping line 15202: expected 636 fields, saw 1047\\n'\n",
      "b'Skipping line 15410: expected 636 fields, saw 669\\nSkipping line 15977: expected 636 fields, saw 976\\nSkipping line 16180: expected 636 fields, saw 777\\nSkipping line 16350: expected 636 fields, saw 869\\n'\n",
      "b'Skipping line 16743: expected 636 fields, saw 762\\nSkipping line 16950: expected 636 fields, saw 645\\nSkipping line 17127: expected 636 fields, saw 1035\\nSkipping line 17330: expected 636 fields, saw 770\\n'\n",
      "b'Skipping line 18093: expected 636 fields, saw 745\\nSkipping line 18271: expected 636 fields, saw 862\\n'\n",
      "b'Skipping line 18650: expected 636 fields, saw 657\\n'\n",
      "b'Skipping line 19618: expected 636 fields, saw 682\\nSkipping line 19797: expected 636 fields, saw 701\\nSkipping line 20181: expected 636 fields, saw 703\\nSkipping line 20386: expected 636 fields, saw 819\\n'\n",
      "b'Skipping line 20563: expected 636 fields, saw 878\\nSkipping line 21330: expected 636 fields, saw 819\\nSkipping line 21537: expected 636 fields, saw 717\\n'\n",
      "b'Skipping line 21711: expected 636 fields, saw 638\\nSkipping line 21914: expected 636 fields, saw 907\\nSkipping line 22092: expected 636 fields, saw 804\\nSkipping line 22297: expected 636 fields, saw 796\\n'\n",
      "b'Skipping line 23062: expected 636 fields, saw 740\\nSkipping line 23235: expected 636 fields, saw 786\\nSkipping line 23443: expected 636 fields, saw 1243\\n'\n",
      "b'Skipping line 24179: expected 636 fields, saw 782\\nSkipping line 24356: expected 636 fields, saw 790\\nSkipping line 24530: expected 636 fields, saw 737\\n'\n",
      "b'Skipping line 24706: expected 636 fields, saw 925\\nSkipping line 24912: expected 636 fields, saw 1053\\nSkipping line 25651: expected 636 fields, saw 1013\\n'\n",
      "b'Skipping line 25829: expected 636 fields, saw 638\\nSkipping line 26005: expected 636 fields, saw 1034\\n'\n",
      "b'Skipping line 26734: expected 636 fields, saw 691\\nSkipping line 26910: expected 636 fields, saw 1199\\n'\n",
      "b'Skipping line 28024: expected 636 fields, saw 820\\nSkipping line 28370: expected 636 fields, saw 943\\n'\n",
      "b'Skipping line 29094: expected 636 fields, saw 808\\nSkipping line 29471: expected 636 fields, saw 820\\n'\n",
      "b'Skipping line 29823: expected 636 fields, saw 896\\nSkipping line 30372: expected 636 fields, saw 849\\nSkipping line 30547: expected 636 fields, saw 1106\\nSkipping line 30752: expected 636 fields, saw 1112\\n'\n",
      "b'Skipping line 31654: expected 636 fields, saw 862\\n'\n",
      "b'Skipping line 32727: expected 878 fields, saw 992\\n'\n",
      "b'Skipping line 35129: expected 878 fields, saw 1024\\n'\n",
      "b'Skipping line 36752: expected 878 fields, saw 945\\n'\n",
      "b'Skipping line 37100: expected 878 fields, saw 1051\\nSkipping line 37826: expected 878 fields, saw 973\\n'\n",
      "b'Skipping line 39100: expected 878 fields, saw 1065\\nSkipping line 40001: expected 878 fields, saw 891\\n'\n",
      "b'Skipping line 41659: expected 878 fields, saw 1170\\n'\n",
      "b'Skipping line 42557: expected 878 fields, saw 998\\nSkipping line 42730: expected 878 fields, saw 1181\\n'\n",
      "b'Skipping line 44004: expected 878 fields, saw 1009\\n'\n",
      "b'Skipping line 44176: expected 878 fields, saw 902\\nSkipping line 45077: expected 878 fields, saw 1063\\n'\n",
      "b'Skipping line 45280: expected 878 fields, saw 933\\n'\n",
      "b'Skipping line 47073: expected 878 fields, saw 989\\n'\n",
      "b'Skipping line 47418: expected 878 fields, saw 980\\n'\n",
      "b'Skipping line 48868: expected 878 fields, saw 986\\nSkipping line 49244: expected 878 fields, saw 1107\\n'\n",
      "b'Skipping line 51933: expected 878 fields, saw 1025\\n'\n",
      "b'Skipping line 54487: expected 878 fields, saw 972\\n'\n",
      "b'Skipping line 55767: expected 878 fields, saw 932\\n'\n",
      "b'Skipping line 57735: expected 878 fields, saw 1016\\nSkipping line 58110: expected 878 fields, saw 1010\\n'\n",
      "b'Skipping line 59408: expected 878 fields, saw 997\\n'\n",
      "b'Skipping line 59755: expected 878 fields, saw 930\\nSkipping line 60134: expected 878 fields, saw 1136\\n'\n",
      "b'Skipping line 63235: expected 878 fields, saw 1078\\n'\n",
      "b'Skipping line 64156: expected 878 fields, saw 981\\n'\n",
      "b'Skipping line 66647: expected 878 fields, saw 918\\n'\n",
      "b'Skipping line 68918: expected 878 fields, saw 879\\nSkipping line 69309: expected 878 fields, saw 961\\n'\n",
      "b'Skipping line 70459: expected 878 fields, saw 1096\\n'\n",
      "b'Skipping line 71214: expected 878 fields, saw 1035\\n'\n",
      "b'Skipping line 71971: expected 878 fields, saw 982\\nSkipping line 72725: expected 878 fields, saw 924\\n'\n",
      "b'Skipping line 74037: expected 878 fields, saw 914\\nSkipping line 74244: expected 878 fields, saw 1011\\n'\n",
      "b'Skipping line 75000: expected 878 fields, saw 939\\n'\n",
      "b'Skipping line 77066: expected 878 fields, saw 932\\nSkipping line 77826: expected 878 fields, saw 914\\n'\n",
      "b'Skipping line 78239: expected 878 fields, saw 929\\nSkipping line 78582: expected 878 fields, saw 1076\\n'\n",
      "b'Skipping line 80085: expected 878 fields, saw 1170\\nSkipping line 80288: expected 878 fields, saw 1044\\n'\n",
      "b'Skipping line 81910: expected 878 fields, saw 967\\n'\n",
      "b'Skipping line 82635: expected 878 fields, saw 891\\nSkipping line 82807: expected 878 fields, saw 993\\n'\n",
      "b'Skipping line 84808: expected 878 fields, saw 937\\n'\n",
      "b'Skipping line 85151: expected 878 fields, saw 997\\nSkipping line 85529: expected 878 fields, saw 883\\n'\n",
      "b'Skipping line 86252: expected 878 fields, saw 1097\\n'\n",
      "b'Skipping line 90016: expected 878 fields, saw 922\\nSkipping line 90184: expected 878 fields, saw 890\\n'\n",
      "b'Skipping line 92173: expected 878 fields, saw 891\\n'\n",
      "b'Skipping line 92515: expected 878 fields, saw 1042\\nSkipping line 93233: expected 878 fields, saw 1003\\n'\n",
      "b'Skipping line 94189: expected 878 fields, saw 933\\n'\n",
      "b'Skipping line 95163: expected 878 fields, saw 1245\\n'\n",
      "b'Skipping line 95915: expected 878 fields, saw 969\\n'\n",
      "b'Skipping line 97024: expected 878 fields, saw 904\\n'\n",
      "b'Skipping line 98535: expected 878 fields, saw 1150\\n'\n",
      "b'Skipping line 99865: expected 878 fields, saw 932\\nSkipping line 100037: expected 878 fields, saw 916\\nSkipping line 100244: expected 878 fields, saw 1065\\n'\n",
      "b'Skipping line 101558: expected 878 fields, saw 879\\n'\n",
      "b'Skipping line 102891: expected 878 fields, saw 1033\\nSkipping line 103269: expected 878 fields, saw 1022\\n'\n",
      "b'Skipping line 104581: expected 878 fields, saw 1014\\n'\n",
      "b'Skipping line 104785: expected 878 fields, saw 881\\nSkipping line 104991: expected 878 fields, saw 911\\n'\n",
      "b'Skipping line 107433: expected 878 fields, saw 1023\\nSkipping line 107638: expected 878 fields, saw 1045\\n'\n"
     ]
    },
    {
     "name": "stderr",
     "output_type": "stream",
     "text": [
      "b'Skipping line 108397: expected 878 fields, saw 1082\\n'\n",
      "b'Skipping line 108770: expected 878 fields, saw 890\\n'\n",
      "b'Skipping line 110680: expected 878 fields, saw 1053\\n'\n",
      "b'Skipping line 111060: expected 878 fields, saw 887\\n'\n",
      "b'Skipping line 112382: expected 878 fields, saw 974\\nSkipping line 112584: expected 878 fields, saw 1129\\n'\n",
      "b'Skipping line 114487: expected 878 fields, saw 1018\\n'\n",
      "b'Skipping line 116020: expected 878 fields, saw 913\\n'\n",
      "b'Skipping line 117165: expected 878 fields, saw 955\\n'\n",
      "b'Skipping line 118297: expected 878 fields, saw 991\\nSkipping line 118472: expected 878 fields, saw 975\\n'\n",
      "b'Skipping line 120383: expected 878 fields, saw 899\\nSkipping line 120592: expected 878 fields, saw 939\\n'\n",
      "b'Skipping line 122479: expected 878 fields, saw 942\\n'\n",
      "b'Skipping line 124553: expected 878 fields, saw 924\\nSkipping line 124927: expected 878 fields, saw 1006\\n'\n",
      "b'Skipping line 125138: expected 878 fields, saw 1069\\nSkipping line 126099: expected 878 fields, saw 1188\\n'\n",
      "b'Skipping line 127757: expected 878 fields, saw 975\\n'\n",
      "b'Skipping line 129057: expected 878 fields, saw 1038\\n'\n",
      "b'Skipping line 129964: expected 878 fields, saw 986\\n'\n",
      "b'Skipping line 131247: expected 878 fields, saw 1252\\n'\n",
      "b'Skipping line 132150: expected 878 fields, saw 948\\n'\n",
      "b'Skipping line 132532: expected 878 fields, saw 960\\n'\n",
      "b'Skipping line 134346: expected 878 fields, saw 1115\\nSkipping line 135288: expected 878 fields, saw 1133\\n'\n",
      "b'Skipping line 136022: expected 878 fields, saw 950\\n'\n",
      "b'Skipping line 136379: expected 878 fields, saw 1144\\n'\n",
      "b'Skipping line 137842: expected 878 fields, saw 882\\nSkipping line 138018: expected 878 fields, saw 1148\\n'\n",
      "b'Skipping line 139684: expected 878 fields, saw 984\\n'\n",
      "b'Skipping line 140936: expected 878 fields, saw 1067\\nSkipping line 141147: expected 878 fields, saw 973\\n'\n",
      "b'Skipping line 142566: expected 878 fields, saw 1216\\n'\n",
      "b'Skipping line 144474: expected 878 fields, saw 1040\\n'\n",
      "b'Skipping line 144650: expected 878 fields, saw 969\\nSkipping line 144857: expected 878 fields, saw 1022\\n'\n",
      "b'Skipping line 145618: expected 878 fields, saw 931\\nSkipping line 145996: expected 878 fields, saw 912\\nSkipping line 146382: expected 878 fields, saw 1073\\n'\n",
      "b'Skipping line 146759: expected 878 fields, saw 967\\n'\n",
      "b'Skipping line 148288: expected 878 fields, saw 1104\\n'\n",
      "b'Skipping line 149601: expected 878 fields, saw 913\\n'\n",
      "b'Skipping line 149807: expected 878 fields, saw 1137\\nSkipping line 149974: expected 878 fields, saw 1137\\n'\n",
      "b'Skipping line 150938: expected 878 fields, saw 965\\nSkipping line 151316: expected 878 fields, saw 924\\nSkipping line 151695: expected 878 fields, saw 1112\\n'\n",
      "b'Skipping line 152620: expected 878 fields, saw 946\\n'\n",
      "b'Skipping line 152999: expected 878 fields, saw 1119\\n'\n",
      "b'Skipping line 154740: expected 878 fields, saw 976\\n'\n",
      "b'Skipping line 155497: expected 878 fields, saw 973\\n'\n",
      "b'Skipping line 157567: expected 878 fields, saw 1078\\nSkipping line 157772: expected 878 fields, saw 948\\n'\n",
      "b'Skipping line 158701: expected 878 fields, saw 893\\n'\n",
      "b'Skipping line 160049: expected 878 fields, saw 1155\\nSkipping line 160805: expected 878 fields, saw 985\\n'\n",
      "b'Skipping line 161769: expected 878 fields, saw 995\\n'\n",
      "b'Skipping line 162701: expected 878 fields, saw 941\\n'\n",
      "b'Skipping line 163082: expected 878 fields, saw 980\\n'\n",
      "b'Skipping line 164600: expected 878 fields, saw 956\\n'\n",
      "b'Skipping line 166135: expected 878 fields, saw 1205\\nSkipping line 166895: expected 878 fields, saw 921\\n'\n",
      "b'Skipping line 168433: expected 878 fields, saw 1228\\n'\n",
      "b'Skipping line 169411: expected 878 fields, saw 1091\\n'\n",
      "b'Skipping line 170931: expected 878 fields, saw 1128\\nSkipping line 171114: expected 878 fields, saw 902\\n'\n",
      "b'Skipping line 173805: expected 878 fields, saw 1070\\n'\n",
      "b'Skipping line 177815: expected 878 fields, saw 1132\\n'\n",
      "b'Skipping line 178756: expected 878 fields, saw 1031\\nSkipping line 178965: expected 878 fields, saw 942\\n'\n",
      "b'Skipping line 180283: expected 878 fields, saw 1010\\n'\n",
      "b'Skipping line 180699: expected 878 fields, saw 1106\\nSkipping line 181044: expected 878 fields, saw 1007\\nSkipping line 181463: expected 878 fields, saw 952\\n'\n",
      "b'Skipping line 182555: expected 878 fields, saw 900\\nSkipping line 182751: expected 878 fields, saw 981\\nSkipping line 182961: expected 878 fields, saw 959\\n'\n",
      "b'Skipping line 184802: expected 878 fields, saw 938\\nSkipping line 184992: expected 878 fields, saw 1030\\n'\n",
      "b'Skipping line 185754: expected 878 fields, saw 887\\nSkipping line 185961: expected 878 fields, saw 911\\nSkipping line 186132: expected 878 fields, saw 960\\n'\n",
      "b'Skipping line 188967: expected 878 fields, saw 881\\n'\n",
      "b'Skipping line 189895: expected 878 fields, saw 883\\n'\n",
      "b'Skipping line 191765: expected 878 fields, saw 1131\\nSkipping line 191976: expected 878 fields, saw 969\\n'\n",
      "b'Skipping line 193276: expected 878 fields, saw 1112\\nSkipping line 193485: expected 878 fields, saw 902\\n'\n",
      "b'Skipping line 194403: expected 878 fields, saw 915\\nSkipping line 194575: expected 878 fields, saw 1048\\n'\n",
      "b'Skipping line 195905: expected 878 fields, saw 1101\\nSkipping line 196244: expected 878 fields, saw 1134\\nSkipping line 196646: expected 878 fields, saw 915\\n'\n",
      "b'Skipping line 197397: expected 878 fields, saw 1196\\nSkipping line 197743: expected 878 fields, saw 940\\n'\n",
      "b'Skipping line 199068: expected 878 fields, saw 1222\\n'\n",
      "b'Skipping line 200232: expected 878 fields, saw 943\\n'\n",
      "b'Skipping line 201812: expected 878 fields, saw 1004\\n'\n",
      "b'Skipping line 202210: expected 878 fields, saw 1036\\n'\n",
      "b'Skipping line 204746: expected 878 fields, saw 955\\n'\n",
      "b'Skipping line 205156: expected 878 fields, saw 919\\n'\n",
      "b'Skipping line 206529: expected 878 fields, saw 1063\\n'\n",
      "b'Skipping line 207526: expected 878 fields, saw 994\\nSkipping line 207893: expected 878 fields, saw 1073\\n'\n",
      "b'Skipping line 208311: expected 878 fields, saw 998\\n'\n",
      "b'Skipping line 209686: expected 878 fields, saw 932\\n'\n",
      "b'Skipping line 212254: expected 878 fields, saw 904\\nSkipping line 212826: expected 878 fields, saw 1064\\n'\n",
      "b'Skipping line 213845: expected 878 fields, saw 975\\nSkipping line 214261: expected 878 fields, saw 958\\n'\n",
      "b'Skipping line 214664: expected 878 fields, saw 1059\\nSkipping line 215077: expected 878 fields, saw 1026\\n'\n",
      "b'Skipping line 218151: expected 878 fields, saw 937\\n'\n",
      "b'Skipping line 219802: expected 878 fields, saw 1039\\nSkipping line 220014: expected 878 fields, saw 1068\\n'\n",
      "b'Skipping line 220834: expected 878 fields, saw 1005\\nSkipping line 221046: expected 878 fields, saw 1154\\n'\n",
      "b'Skipping line 222688: expected 878 fields, saw 1109\\n'\n",
      "b'Skipping line 223713: expected 878 fields, saw 941\\nSkipping line 223923: expected 878 fields, saw 1047\\n'\n",
      "b'Skipping line 226185: expected 878 fields, saw 888\\n'\n",
      "b'Skipping line 226604: expected 878 fields, saw 1091\\nSkipping line 227431: expected 878 fields, saw 960\\n'\n",
      "b'Skipping line 229493: expected 878 fields, saw 902\\n'\n",
      "b'Skipping line 230309: expected 878 fields, saw 1010\\n'\n",
      "b'Skipping line 231342: expected 878 fields, saw 955\\n'\n",
      "b'Skipping line 231765: expected 878 fields, saw 1036\\n'\n",
      "b'Skipping line 233405: expected 878 fields, saw 1226\\nSkipping line 233611: expected 878 fields, saw 1078\\n'\n",
      "b'Skipping line 235029: expected 878 fields, saw 964\\nSkipping line 235225: expected 878 fields, saw 923\\n'\n",
      "b'Skipping line 237335: expected 878 fields, saw 985\\nSkipping line 237745: expected 878 fields, saw 899\\n'\n",
      "b'Skipping line 238519: expected 878 fields, saw 938\\nSkipping line 238687: expected 878 fields, saw 1142\\n'\n",
      "b'Skipping line 239863: expected 878 fields, saw 1062\\n'\n",
      "b'Skipping line 240056: expected 878 fields, saw 1172\\nSkipping line 240798: expected 878 fields, saw 1167\\n'\n",
      "b'Skipping line 241783: expected 878 fields, saw 953\\n'\n",
      "b'Skipping line 242932: expected 878 fields, saw 955\\n'\n",
      "b'Skipping line 243139: expected 878 fields, saw 1078\\nSkipping line 243715: expected 878 fields, saw 912\\n'\n",
      "b'Skipping line 244461: expected 878 fields, saw 1119\\nSkipping line 244654: expected 878 fields, saw 967\\n'\n",
      "b'Skipping line 245440: expected 878 fields, saw 1023\\nSkipping line 246016: expected 878 fields, saw 1029\\n'\n",
      "b'Skipping line 246597: expected 878 fields, saw 1106\\n'\n",
      "b'Skipping line 247582: expected 878 fields, saw 1000\\n'\n"
     ]
    },
    {
     "name": "stderr",
     "output_type": "stream",
     "text": [
      "b'Skipping line 248730: expected 878 fields, saw 1012\\n'\n",
      "b'Skipping line 250092: expected 878 fields, saw 1039\\n'\n",
      "b'Skipping line 251047: expected 878 fields, saw 1021\\n'\n",
      "b'Skipping line 251452: expected 878 fields, saw 926\\nSkipping line 252032: expected 878 fields, saw 931\\n'\n",
      "b'Skipping line 253561: expected 878 fields, saw 964\\n'\n",
      "b'Skipping line 256857: expected 878 fields, saw 1070\\n'\n",
      "b'Skipping line 257650: expected 878 fields, saw 956\\n'\n",
      "b'Skipping line 259992: expected 878 fields, saw 1110\\n'\n",
      "b'Skipping line 260787: expected 878 fields, saw 1090\\nSkipping line 261369: expected 878 fields, saw 987\\n'\n",
      "b'Skipping line 261577: expected 878 fields, saw 895\\n'\n",
      "b'Skipping line 263128: expected 878 fields, saw 1093\\n'\n",
      "b'Skipping line 263717: expected 878 fields, saw 926\\n'\n",
      "b'Skipping line 264697: expected 878 fields, saw 1146\\n'\n",
      "b'Skipping line 265867: expected 878 fields, saw 917\\nSkipping line 266461: expected 878 fields, saw 900\\n'\n",
      "b'Skipping line 267057: expected 878 fields, saw 969\\n'\n",
      "b'Skipping line 268846: expected 878 fields, saw 1000\\n'\n",
      "b'Skipping line 270605: expected 878 fields, saw 981\\n'\n",
      "b'Skipping line 271614: expected 878 fields, saw 915\\n'\n",
      "b'Skipping line 272400: expected 878 fields, saw 890\\n'\n",
      "b'Skipping line 273573: expected 878 fields, saw 910\\n'\n",
      "b'Skipping line 274564: expected 878 fields, saw 1182\\nSkipping line 274759: expected 878 fields, saw 1026\\n'\n",
      "b'Skipping line 275751: expected 878 fields, saw 1091\\n'\n",
      "b'Skipping line 276319: expected 878 fields, saw 943\\nSkipping line 276515: expected 878 fields, saw 945\\n'\n",
      "b'Skipping line 277683: expected 878 fields, saw 909\\n'\n",
      "b'Skipping line 277873: expected 878 fields, saw 1062\\n'\n",
      "b'Skipping line 279599: expected 878 fields, saw 1009\\nSkipping line 279782: expected 878 fields, saw 1031\\n'\n",
      "b'Skipping line 280357: expected 878 fields, saw 996\\n'\n",
      "b'Skipping line 281326: expected 878 fields, saw 1133\\n'\n",
      "b'Skipping line 282476: expected 878 fields, saw 939\\n'\n",
      "b'Skipping line 283243: expected 878 fields, saw 1180\\nSkipping line 283436: expected 878 fields, saw 1237\\n'\n",
      "b'Skipping line 284178: expected 878 fields, saw 1086\\n'\n",
      "b'Skipping line 285333: expected 878 fields, saw 1036\\n'\n",
      "b'Skipping line 288146: expected 878 fields, saw 1056\\nSkipping line 288712: expected 878 fields, saw 992\\n'\n",
      "b'Skipping line 290602: expected 878 fields, saw 1183\\nSkipping line 290796: expected 878 fields, saw 1112\\n'\n",
      "b'Skipping line 291356: expected 878 fields, saw 947\\n'\n",
      "b'Skipping line 292292: expected 878 fields, saw 900\\nSkipping line 292853: expected 878 fields, saw 1019\\n'\n",
      "b'Skipping line 293417: expected 878 fields, saw 964\\n'\n",
      "b'Skipping line 295863: expected 878 fields, saw 1013\\n'\n",
      "b'Skipping line 296426: expected 878 fields, saw 1178\\nSkipping line 296984: expected 878 fields, saw 984\\n'\n",
      "b'Skipping line 297744: expected 878 fields, saw 893\\n'\n",
      "b'Skipping line 299236: expected 878 fields, saw 902\\n'\n",
      "b'Skipping line 299801: expected 878 fields, saw 993\\n'\n",
      "b'Skipping line 300556: expected 878 fields, saw 928\\n'\n",
      "b'Skipping line 302944: expected 878 fields, saw 1181\\n'\n"
     ]
    }
   ],
   "source": [
    "# load in the dataset into a pandas dataframe\n",
    "\n",
    "df = pd.read_csv('pisa2012.csv',sep=',', encoding='latin-1',error_bad_lines=False, index_col=False, dtype='unicode')"
   ]
  },
  {
   "cell_type": "code",
   "execution_count": 15,
   "metadata": {
    "slideshow": {
     "slide_type": "skip"
    }
   },
   "outputs": [
    {
     "data": {
      "image/png": "[encoded data removed]",
      "text/plain": [
       "<IPython.core.display.Image object>"
      ]
     },
     "execution_count": 15,
     "metadata": {},
     "output_type": "execute_result"
    }
   ],
   "source": [
    "from IPython.display import Image\n",
    "Image(\"agerange.png\")\n",
    "Image(\"PerformanceDistr.png\")\n",
    "Image(\"FamilyDistr.png\")\n",
    "Image(\"CountryStudent.png\")\n",
    "Image (\"ScoreCorr.png\")\n",
    "Image(\"GenderStudent.png\")\n",
    "Image (\"FamilyStudent.png\")"
   ]
  },
  {
   "cell_type": "markdown",
   "metadata": {
    "slideshow": {
     "slide_type": "subslide"
    }
   },
   "source": [
    "# Data Set Overview"
   ]
  },
  {
   "cell_type": "markdown",
   "metadata": {
    "slideshow": {
     "slide_type": "slide"
    }
   },
   "source": [
    "![title](agerange.png)\n",
    "\n",
    "> The polished data set we are using includes participants of an age range between 15 and 17 years. Most of the students are 15 years old, as described by the PISA study."
   ]
  },
  {
   "cell_type": "markdown",
   "metadata": {
    "slideshow": {
     "slide_type": "slide"
    }
   },
   "source": [
    "![title](PerformanceDistr.png)\n",
    "\n",
    "> We can see that the performance distribution of Math Score, Reading Score and Science Score is normal. Therefore we can conclude that the PISA test has been conducted in a proper manner. Most students scored between 400 and 500 points."
   ]
  },
  {
   "cell_type": "markdown",
   "metadata": {
    "slideshow": {
     "slide_type": "slide"
    }
   },
   "source": [
    "![title](FamilyDistr.png)\n",
    "\n",
    "> We can see that there are way more students having a homogeneous family background than having a heterogeneous family background in the PISA study. This might be a misleading factor in the further analysis."
   ]
  },
  {
   "cell_type": "markdown",
   "metadata": {
    "slideshow": {
     "slide_type": "slide"
    }
   },
   "source": [
    "![title](ScoreCorr.png)\n",
    "\n",
    "> We can see above that there is a relationship between all the performance categories, which makes us think that a student that is performing well in one category will also perform well in another category. The performance in the different disciplines might influence each other."
   ]
  },
  {
   "cell_type": "markdown",
   "metadata": {
    "slideshow": {
     "slide_type": "subslide"
    }
   },
   "source": [
    "# Influence of Location on student performance in Math, Reading and Science literacy"
   ]
  },
  {
   "cell_type": "markdown",
   "metadata": {
    "collapsed": true,
    "slideshow": {
     "slide_type": "slide"
    }
   },
   "source": [
    "![title](CountryStudent.png)\n",
    "\n",
    "> We may say that the country of origin seems to make a difference in student performance, as the best performing countries in Math, Reading and Science score on average highest throughout all three categories. This might be caused though by the above mentioned correlation between Math, Reading and Science results. \n",
    "\n",
    "> The best results are showing Hong Kong- China, as it is on the first place for all 3 categories and Estonia, as it is on the 2nd place for Math and Science and on the 3rd for Reading. \n",
    "\n",
    "> Though the difference between the best performing countries seems not significant, we might still conclude that there is a difference in student performance related to location. This might be caused by country specific approaches to eaducation, culture, etc.\n"
   ]
  },
  {
   "cell_type": "markdown",
   "metadata": {
    "slideshow": {
     "slide_type": "subslide"
    }
   },
   "source": [
    "# Influence of Gender on student performance in Math, Reading and Science literacy"
   ]
  },
  {
   "cell_type": "markdown",
   "metadata": {
    "slideshow": {
     "slide_type": "slide"
    }
   },
   "source": [
    "![title](GenderStudent.png)\n",
    "\n",
    "> Based on the results, we may say that gender does not seem to play a significant role in student performance. Though something interesting to observe is that male participants scored higher on average on Math and Science, whereas female participants scored higher on Reading. This is surprising as we have seen a positive correlation between the different categories and would have expected the same result in each of them\n",
    "\n",
    "> Though the difference seems not to be significant, this might be interesting to investigate further."
   ]
  },
  {
   "cell_type": "markdown",
   "metadata": {
    "slideshow": {
     "slide_type": "subslide"
    }
   },
   "source": [
    "# Influence of family background on student performance"
   ]
  },
  {
   "cell_type": "markdown",
   "metadata": {
    "slideshow": {
     "slide_type": "slide"
    }
   },
   "source": [
    "![title](FamilyStudent.png)\n",
    "\n",
    "> We can see that, on average, students in our dataset coming from heterogenic family backgrounds show better performance in all categories, compared to students from homogenous family backgrounds. \n",
    "\n",
    "> This needs to be further investigated though, as we have seen that the group of student coming from a heterogenous background is way smaller than the group coming from a homogeneous background in our dataset. Therefore this result might be misleading."
   ]
  },
  {
   "cell_type": "markdown",
   "metadata": {},
   "source": [
    "# Conclusion\n",
    "\n",
    "> The student performance in the investigated data set seems to be influenced by location, gender and family background. As we discovered a relationship between Math, Reading and Science scores, such as a sample difference of students with a heterogeneous and a homogeneous family background, the results would need further investigation though. "
   ]
  }
 ],
 "metadata": {
  "celltoolbar": "Slideshow",
  "kernelspec": {
   "display_name": "Python 3",
   "language": "python",
   "name": "python3"
  },
  "language_info": {
   "codemirror_mode": {
    "name": "ipython",
    "version": 3
   },
   "file_extension": ".py",
   "mimetype": "text/x-python",
   "name": "python",
   "nbconvert_exporter": "python",
   "pygments_lexer": "ipython3",
   "version": "3.6.7"
  }
 },
 "nbformat": 4,
 "nbformat_minor": 2
}
